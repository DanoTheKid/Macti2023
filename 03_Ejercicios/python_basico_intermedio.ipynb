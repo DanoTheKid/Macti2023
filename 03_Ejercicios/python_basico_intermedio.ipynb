{
 "cells": [
  {
   "cell_type": "markdown",
   "id": "f992fc8e",
   "metadata": {},
   "source": [
    "Before you turn this problem in, make sure everything runs as expected. First, **restart the kernel** (in the menubar, select Kernel$\\rightarrow$Restart) and then **run all cells** (in the menubar, select Cell$\\rightarrow$Run All).\n",
    "\n",
    "Make sure you fill in any place that says `YOUR CODE HERE` or \"YOUR ANSWER HERE\", as well as your name and collaborators below:"
   ]
  },
  {
   "cell_type": "code",
   "execution_count": 1,
   "id": "a1da55fa",
   "metadata": {
    "tags": []
   },
   "outputs": [],
   "source": [
    "NAME = \"Daniel González Núñez\"\n",
    "COLLABORATORS = \"\""
   ]
  },
  {
   "cell_type": "markdown",
   "id": "498fe1b6",
   "metadata": {},
   "source": [
    "---"
   ]
  },
  {
   "cell_type": "markdown",
   "id": "1c2d8e98-e8ee-4485-9ba4-c4bc563b5883",
   "metadata": {
    "deletable": false,
    "editable": false,
    "nbgrader": {
     "cell_type": "markdown",
     "checksum": "725a66e4bdc42bafa00e0c1530a6f892",
     "grade": false,
     "grade_id": "cell-10e9abdf56bbb71f",
     "locked": true,
     "schema_version": 3,
     "solution": false,
     "task": false
    },
    "tags": []
   },
   "source": [
    "# Quizz de Python\n",
    "\n",
    "Los siguientes ejercicios tienen la intención de verificar tus conocimientos de Python básico-intermedio."
   ]
  },
  {
   "cell_type": "code",
   "execution_count": 2,
   "id": "47e21983-9e9d-4f75-9a1b-b2e99eb4889b",
   "metadata": {
    "deletable": false,
    "editable": false,
    "nbgrader": {
     "cell_type": "code",
     "checksum": "a2df3a939377e0300313242d7cd9046f",
     "grade": false,
     "grade_id": "cell-47bad207680ba42f",
     "locked": true,
     "schema_version": 3,
     "solution": false,
     "task": false
    },
    "tags": []
   },
   "outputs": [],
   "source": [
    "import numpy as np\n",
    "from macti.evaluation import Quizz\n",
    "quizz = Quizz('2', 'intro_MeIA_2023_NBG', '03_Ejercicios')"
   ]
  },
  {
   "cell_type": "markdown",
   "id": "3dd62eff-3e2b-47c2-a36c-fae077c18af1",
   "metadata": {
    "deletable": false,
    "editable": false,
    "nbgrader": {
     "cell_type": "markdown",
     "checksum": "29dd877f49c72236c0156bc1e962b6e6",
     "grade": false,
     "grade_id": "cell-061445a24736dab9",
     "locked": true,
     "schema_version": 3,
     "solution": false,
     "task": false
    },
    "tags": []
   },
   "source": [
    "---\n",
    "## **<font color=\"DodgerBlue\">Ejercicio 1. Suma de los dígitos de un número entero.</font>**\n",
    "\n",
    "<font color=\"DarkBlue\"> \n",
    "Desarrolla una función de nombre <font style=\"font-family:'Courier New'\" color=\"blue\"><b>suma_digitos(numero)</b></font> que reciba un número entero y que calcule la suma de los dígitos del entero. Por ejemplo, para el número $3141$ la ejecución <font style=\"font-family:'Courier New'\" color=\"blue\"><b>suma_digitos(3141)</b></font> genera el resultado: $9$. Prueba tu código con el número: $123456789$.\n",
    "</font>\n",
    "\n",
    "---"
   ]
  },
  {
   "cell_type": "code",
   "execution_count": 4,
   "id": "aa7c8f68-c502-438e-8d22-63d3d6def869",
   "metadata": {
    "deletable": false,
    "nbgrader": {
     "cell_type": "code",
     "checksum": "416285c62e53a0744cbd4c1de4793ef4",
     "grade": false,
     "grade_id": "cell-50db227186baa1b5",
     "locked": false,
     "schema_version": 3,
     "solution": true,
     "task": false
    },
    "tags": []
   },
   "outputs": [],
   "source": [
    "# YOUR CODE HERE\n",
    "def suma_digitos(numero):\n",
    "    suma = 0\n",
    "    for n in str(numero):\n",
    "        suma = suma + int(n)\n",
    "    return suma"
   ]
  },
  {
   "cell_type": "code",
   "execution_count": 5,
   "id": "9d4a28cf-4fcd-46bb-8b3f-3395e2d8c38e",
   "metadata": {
    "deletable": false,
    "editable": false,
    "nbgrader": {
     "cell_type": "code",
     "checksum": "40188a569e3c3a01acb35b2df56dbd99",
     "grade": true,
     "grade_id": "cell-3daff4d0ec83261e",
     "locked": true,
     "points": 1,
     "schema_version": 3,
     "solution": false,
     "task": false
    },
    "tags": []
   },
   "outputs": [
    {
     "name": "stdout",
     "output_type": "stream",
     "text": [
      "\u001b[39m--------------------------------------------------------------------------------\n",
      "\u001b[32mTu resultado es correcto.\n",
      "\u001b[39m--------------------------------------------------------------------------------\n",
      "\u001b[39m--------------------------------------------------------------------------------\n",
      "\u001b[32mTu resultado es correcto.\n",
      "\u001b[39m--------------------------------------------------------------------------------\n",
      "\u001b[39m--------------------------------------------------------------------------------\n",
      "\u001b[32mTu resultado es correcto.\n",
      "\u001b[39m--------------------------------------------------------------------------------\n"
     ]
    }
   ],
   "source": [
    "quizz.eval_numeric('1', suma_digitos(5672394))\n",
    "quizz.eval_numeric('2', suma_digitos(9823))\n",
    "quizz.eval_numeric('3', suma_digitos(2))"
   ]
  },
  {
   "cell_type": "markdown",
   "id": "92802e50-6c45-46f7-b847-5518657d6fcc",
   "metadata": {
    "deletable": false,
    "editable": false,
    "nbgrader": {
     "cell_type": "markdown",
     "checksum": "955824732c0b8c3b9bde41975f0a7c35",
     "grade": false,
     "grade_id": "cell-61f539b64f1ba54e",
     "locked": true,
     "schema_version": 3,
     "solution": false,
     "task": false
    },
    "tags": []
   },
   "source": [
    "---\n",
    "## **<font color=\"DodgerBlue\">Ejercicio 2. Suma de los dígitos de un número entero.</font>**\n",
    "\n",
    "<font color=\"DarkBlue\"> \n",
    "Cuando el viento sopla en un clima frío, el aire se siente aún más frío de lo que realmente es porque el movimiento del aire aumenta la velocidad de enfriamiento de los objetos calientes.\n",
    "\n",
    "En 2001, Canadá, el Reino Unido y los Estados Unidos adoptaron la siguiente fórmula para calcular el índice de sensación térmica:\n",
    "\n",
    "$$ WCI = 13.12 + 0.6215T_{a} - 11.37V^{0.16} + 0.3965T_{a}V^{0.16}$$\n",
    "\n",
    "Donde $T_{a}$ es la temperatura del aire en grados Celsius y $V$ es la velocidad del viento en kilómetros por hora. \n",
    "\n",
    "Escribe la función <font style=\"font-family:'Courier New'\" color=\"blue\"><b>wci(Ta, V)</b></font> que implemente la fórmula para calcular el $WCI$ que reciba la temperatura del aire $T_a$ y la velocidad del viento $V$. La función debe mostrar índice de sensación térmica redondeado al entero más cercano.\n",
    "    \n",
    "Pruebe su código con: <font style=\"font-family:'Courier New'\" color=\"blue\"><b>wci(20, 100)</b></font> (el resultado debería ser 18).\n",
    "</font>\n",
    "\n",
    "---"
   ]
  },
  {
   "cell_type": "code",
   "execution_count": 11,
   "id": "4a88cd61-f1b0-4f32-adc0-8d075b5074e4",
   "metadata": {
    "deletable": false,
    "nbgrader": {
     "cell_type": "code",
     "checksum": "6da6637d0423625db64439491d6ce82c",
     "grade": false,
     "grade_id": "cell-b7a8edab8a0cb4f0",
     "locked": false,
     "schema_version": 3,
     "solution": true,
     "task": false
    },
    "tags": []
   },
   "outputs": [],
   "source": [
    "# YOUR CODE HERE\n",
    "def wci(Ta,V):\n",
    "    calc = 13.12+(0.6215*Ta)-(11.37*((V)**(0.16)))+(0.3965*Ta*((V)**0.16))\n",
    "    return round(calc,0)"
   ]
  },
  {
   "cell_type": "code",
   "execution_count": 12,
   "id": "288103c9-d3c3-4ed8-8534-af7981fe84ae",
   "metadata": {
    "tags": []
   },
   "outputs": [
    {
     "data": {
      "text/plain": [
       "18.0"
      ]
     },
     "execution_count": 12,
     "metadata": {},
     "output_type": "execute_result"
    }
   ],
   "source": [
    "wci(20,100)"
   ]
  },
  {
   "cell_type": "code",
   "execution_count": 13,
   "id": "5d831bfc-e98d-4f0b-a138-8948f56eb187",
   "metadata": {
    "deletable": false,
    "editable": false,
    "nbgrader": {
     "cell_type": "code",
     "checksum": "a7a9b38541907e45df93b7c2bceb95f9",
     "grade": true,
     "grade_id": "cell-0ad27a956c78421e",
     "locked": true,
     "points": 1,
     "schema_version": 3,
     "solution": false,
     "task": false
    },
    "tags": []
   },
   "outputs": [
    {
     "name": "stdout",
     "output_type": "stream",
     "text": [
      "\u001b[39m--------------------------------------------------------------------------------\n",
      "\u001b[32mTu resultado es correcto.\n",
      "\u001b[39m--------------------------------------------------------------------------------\n",
      "\u001b[39m--------------------------------------------------------------------------------\n",
      "\u001b[32mTu resultado es correcto.\n",
      "\u001b[39m--------------------------------------------------------------------------------\n"
     ]
    }
   ],
   "source": [
    "quizz.eval_numeric('4', wci(-10, 120))\n",
    "quizz.eval_numeric('5', wci(22, 0))"
   ]
  },
  {
   "cell_type": "markdown",
   "id": "18461aa5-906d-4f9a-b2c4-b8e20fdc8956",
   "metadata": {
    "deletable": false,
    "editable": false,
    "nbgrader": {
     "cell_type": "markdown",
     "checksum": "ee8c7b7ff6c9a4d6a9427f4e8254c3c3",
     "grade": false,
     "grade_id": "cell-b0882df639ab95fe",
     "locked": true,
     "schema_version": 3,
     "solution": false,
     "task": false
    },
    "tags": []
   },
   "source": [
    "---\n",
    "## **<font color=\"DodgerBlue\">Ejercicio 3. Distancia entre dos posiciones de la Tierra.</font>**\n",
    "\n",
    "<font color=\"DarkBlue\"> \n",
    "La superficie de la Tierra es curva y la distancia entre grados de longitud varía con la latitud. Como resultado, encontrar la distancia entre dos posiciones en la superficie de la Tierra es más complicado que simplemente usar el teorema de Pitágoras.\n",
    "\n",
    "Sean $(t1, g1)$ y $(t2, g2)$ la latitud y la longitud de dos posiciones de la Tierra. La distancia entre estas posiciones en kilómetros está dada por la expresión:\n",
    "\n",
    "$$\n",
    "d = 6371.01 \\times \\arccos\\big( \\sin(t1) \\times \\sin(t2) + \\cos(t1) \\times \\cos(t2) \\times \\cos(g1 − g2)\\big)\n",
    "$$\n",
    "\n",
    "*El valor 6371.01 en la ecuación anterior no fue seleccionado al azar. Es el radio medio de la Tierra en kilómetros.*\n",
    "\n",
    "Construye la función <font style=\"font-family:'Courier New'\" color=\"blue\"><b>distancia(pos1, pos2)</b></font>, donde cada uno de los argumentos <font style=\"font-family:'Courier New'\" color=\"blue\"><b>(pos1, pos2)</b></font> es una tupla que contiene la latitud y longitud de cada posición en la Tierra en grados; La función deberá calcular la distancia entre las dos posiciones, dadas en grados, siguiendo la superficie de la tierra, en kilómetros.\n",
    "\n",
    "La siguiente aplicación de la función: <font style=\"font-family:'Courier New'\" color=\"blue\"><b>distancia((30, 30), (60, 60))</b></font> debe dar como resultado $8209.447911287292$.\n",
    "\n",
    "<b>Hint</b>: Las funciones trigonométricas de Python operan en radianes. Por ello, se necesita convertir la entrada que debe ser dada en grados a radianes antes de calcular la distancia con la fórmula. El módulo de matemáticas contiene un función llamada <font style=\"font-family:'Courier New'\" color=\"blue\"><b>radians()</b></font> que convierte de grados a radianes.\n",
    "</font>\n",
    "\n",
    "---"
   ]
  },
  {
   "cell_type": "code",
   "execution_count": 14,
   "id": "b6ff5b41-1b8a-4d44-9501-f9d677d4fa59",
   "metadata": {
    "deletable": false,
    "nbgrader": {
     "cell_type": "code",
     "checksum": "2ae47817021be067ac969dec68ed2b56",
     "grade": false,
     "grade_id": "cell-4e61ee476d642aac",
     "locked": false,
     "schema_version": 3,
     "solution": true,
     "task": false
    },
    "tags": []
   },
   "outputs": [],
   "source": [
    "# YOUR CODE HERE\n",
    "def distancia(pos1,pos2):\n",
    "    d = 6371.01* np.arccos(np.sin(pos1[0])*np.sin(pos2[0])+np.cos(pos1[0])*np.cos(pos2[0])*np.cos(pos1[1]-pos2[1]))\n",
    "    return d"
   ]
  },
  {
   "cell_type": "code",
   "execution_count": 16,
   "id": "2618374d-aadf-499c-8270-617ceee77335",
   "metadata": {
    "deletable": false,
    "editable": false,
    "nbgrader": {
     "cell_type": "code",
     "checksum": "f5e2a38cc5d5d526310553089eb5bebb",
     "grade": true,
     "grade_id": "cell-7f7fdcba3a11b76e",
     "locked": true,
     "points": 1,
     "schema_version": 3,
     "solution": false,
     "task": false
    },
    "tags": []
   },
   "outputs": [
    {
     "name": "stdout",
     "output_type": "stream",
     "text": [
      "\u001b[39m--------------------------------------------------------------------------------\n",
      "\u001b[32mTu resultado es correcto.\n",
      "\u001b[39m--------------------------------------------------------------------------------\n",
      "\u001b[39m--------------------------------------------------------------------------------\n",
      "\u001b[32mTu resultado es correcto.\n",
      "\u001b[39m--------------------------------------------------------------------------------\n"
     ]
    }
   ],
   "source": [
    "quizz.eval_numeric('6', distancia((30, 30), (60, 60)))\n",
    "quizz.eval_numeric('7', distancia((10, 40), (0, 90)))"
   ]
  },
  {
   "cell_type": "markdown",
   "id": "6f569f04-a7e0-4514-b984-2c682ce5741a",
   "metadata": {
    "deletable": false,
    "editable": false,
    "nbgrader": {
     "cell_type": "markdown",
     "checksum": "34972d21918105cd736fb61054f3d1b9",
     "grade": false,
     "grade_id": "cell-8a14d26ae4d89a56",
     "locked": true,
     "schema_version": 3,
     "solution": false,
     "task": false
    },
    "tags": []
   },
   "source": [
    "---\n",
    "## **<font color=\"DodgerBlue\">Ejercicio 4. Distancia entre dos posiciones de la Tierra.</font>**\n",
    "\n",
    "<font color=\"DarkBlue\"> \n",
    "La siguiente tabla muestra el nivel de sonido en decibeles producidos por ciertos aparatos:\n",
    "    \n",
    "| Ruido | Decibeles (dB)  |\n",
    "|---|---|\n",
    "| Habitación silenciosa  | 40  |\n",
    "| Alarma despertador     | 70  |\n",
    "| Podadora de césped     | 106 |\n",
    "| Martillo neumático     | 130 |\n",
    "    \n",
    "Escribe la función <font style=\"font-family:'Courier New'\" color=\"blue\"><b>ruido(decibeles)</b></font> que reciba un entero que representa los decibeles de un ruido y que la función determine en qué rango de ruidos se encuentra de acuerdo con la tabla de arriba. Si el ruido es exactamente uno de los de la tabla, la función debe imprimir el nombre exacto del ruido y devolver el ruido correspondiente; si está entre dos de ellos, debe imprimir el intervalo de ruidos y devolver una tupla con el rango. Si el ruido es menor que $40$ entonces imprime 'Inaudible' y devuelve $0$; si el ruido es muy alto entonces imprime 'Estruendoso' devolver $1000$. Por ejemplo:\n",
    "\n",
    "---\n",
    "```python\n",
    "ruido(1)\n",
    "```\n",
    "```\n",
    "Inaudible\n",
    "0\n",
    "```\n",
    "---\n",
    "```python\n",
    "ruido(131)\n",
    "```\n",
    "```\n",
    "Estruendoso\n",
    "1000\n",
    "```\n",
    "---\n",
    "```python\n",
    "ruido(45)\n",
    "```\n",
    "```\n",
    "Tu sonido está entre una habitación en silencio y una alarma despertador\n",
    "(40, 70)\n",
    "```\n",
    "---\n",
    "```python\n",
    "ruido(106)\n",
    "```\n",
    "```\n",
    "Cortacésped\n",
    "106\n",
    "```\n",
    "</font>\n",
    "\n",
    "---"
   ]
  },
  {
   "cell_type": "code",
   "execution_count": 21,
   "id": "30f7cb05-5ecc-465a-8467-8963c89780dc",
   "metadata": {
    "deletable": false,
    "nbgrader": {
     "cell_type": "code",
     "checksum": "c0991c5bd0fc81748231446c82f020dc",
     "grade": false,
     "grade_id": "cell-62aceb887fcb3996",
     "locked": false,
     "schema_version": 3,
     "solution": true,
     "task": false
    },
    "tags": []
   },
   "outputs": [],
   "source": [
    "# YOUR CODE HERE\n",
    "def ruido(decibeles):\n",
    "    if decibeles < 40:\n",
    "        print(\"Inaudible\")\n",
    "        print(0)\n",
    "        n=0\n",
    "    elif decibeles == 40:\n",
    "        print(\"Habitación silenciosa\")\n",
    "        print(40)\n",
    "        n=40\n",
    "    elif decibeles > 40 and decibeles < 70:\n",
    "        print(\"Tu sonido está entre habitación silenciosa y alarma de despertador\")\n",
    "        print((40,70))\n",
    "        n=(40,70)\n",
    "    elif decibeles == 70:\n",
    "        print(\"Alarma despertador\")\n",
    "        print(70)\n",
    "        n=70\n",
    "    elif decibeles > 70 and decibeles < 106:\n",
    "        print(\"Tu sonido está entre alarma despertador y podadora de césped\")\n",
    "        print((70,106))\n",
    "        n=(70,106)\n",
    "    elif decibeles == 106:\n",
    "        print(\"podadora de césped\")\n",
    "        print(106)\n",
    "        n=106\n",
    "    elif decibeles > 106 and decibeles < 130:\n",
    "        print(\"Tu sonido está entre podadora de césped y martillo neumático\")\n",
    "        print((106,130))\n",
    "        n=(106,130)\n",
    "    elif decibeles == 130:\n",
    "        print(\"Martillo neumático\")\n",
    "        print(130)\n",
    "        n=130\n",
    "    elif decibeles > 130:\n",
    "        print(\"Estruendoso\")\n",
    "        print(1000)\n",
    "        n=1000\n",
    "    return n"
   ]
  },
  {
   "cell_type": "code",
   "execution_count": 22,
   "id": "25e6fce2-01f4-4a6d-b4ba-8ff09f22bb61",
   "metadata": {
    "tags": []
   },
   "outputs": [
    {
     "name": "stdout",
     "output_type": "stream",
     "text": [
      "Inaudible\n",
      "0\n"
     ]
    },
    {
     "data": {
      "text/plain": [
       "0"
      ]
     },
     "execution_count": 22,
     "metadata": {},
     "output_type": "execute_result"
    }
   ],
   "source": [
    "ruido(1)"
   ]
  },
  {
   "cell_type": "code",
   "execution_count": 23,
   "id": "b6ddbec7-e873-4780-b88c-aefc850f1a4e",
   "metadata": {
    "deletable": false,
    "editable": false,
    "nbgrader": {
     "cell_type": "code",
     "checksum": "d5d34b109678934c5162ac85422497c4",
     "grade": true,
     "grade_id": "cell-e959d06f8e6c82d9",
     "locked": true,
     "points": 1,
     "schema_version": 3,
     "solution": false,
     "task": false
    },
    "tags": []
   },
   "outputs": [
    {
     "name": "stdout",
     "output_type": "stream",
     "text": [
      "Inaudible\n",
      "0\n",
      "\u001b[39m--------------------------------------------------------------------------------\n",
      "\u001b[32mTu resultado es correcto.\n",
      "\u001b[39m--------------------------------------------------------------------------------\n",
      "Estruendoso\n",
      "1000\n",
      "\u001b[39m--------------------------------------------------------------------------------\n",
      "\u001b[32mTu resultado es correcto.\n",
      "\u001b[39m--------------------------------------------------------------------------------\n",
      "Tu sonido está entre habitación silenciosa y alarma de despertador\n",
      "(40, 70)\n",
      "\u001b[39m--------------------------------------------------------------------------------\n",
      "\u001b[32mTu resultado es correcto.\n",
      "\u001b[39m--------------------------------------------------------------------------------\n",
      "podadora de césped\n",
      "106\n",
      "\u001b[39m--------------------------------------------------------------------------------\n",
      "\u001b[32mTu resultado es correcto.\n",
      "\u001b[39m--------------------------------------------------------------------------------\n"
     ]
    }
   ],
   "source": [
    "quizz.eval_numeric('8', ruido(1))\n",
    "quizz.eval_numeric('9', ruido(131))\n",
    "quizz.eval_numeric('10', np.array(ruido(45)))\n",
    "quizz.eval_numeric('11', ruido(106))"
   ]
  },
  {
   "cell_type": "markdown",
   "id": "396cefc0-1087-4f3a-b6ad-c1da6e23de75",
   "metadata": {
    "deletable": false,
    "editable": false,
    "nbgrader": {
     "cell_type": "markdown",
     "checksum": "869becc17193e25987fd3d60297f3b4f",
     "grade": false,
     "grade_id": "cell-006a115c159159ba",
     "locked": true,
     "schema_version": 3,
     "solution": false,
     "task": false
    },
    "tags": []
   },
   "source": [
    "---\n",
    "## **<font color=\"DodgerBlue\">Ejercicio 5. Eliminación de valores atípicos en una lista.</font>**\n",
    "\n",
    "<font color=\"DarkBlue\"> \n",
    "Cuando se analizan datos recopilados como parte de un experimento científico, puede ser deseable eliminar los valores más extremos antes de realizar otros cálculos. Escribe la función <font style=\"font-family:'Courier New'\" color=\"blue\"><b>remove_outliers(arr, n)</b></font> que recibe una lista como primer parámetro y un entero no negativo como segundo. La función debe ordenar la lista; posteriormente eleminar los $n$ elementos más pequeños y los $n$ elementos más grandes; al final devuelve la lista sin los valores atípicos y ordenada. La función debe también checar que el tamaño de la lista sea mayor estrictamente que $2 * n$ para que pueda proceder, de lo contrario avisa al usuario y regresa una lista vacía. Por ejemplo:\n",
    "    \n",
    "---\n",
    "```python\n",
    "arr = [12, 45, 67, 89, 23, 1, 56, 78, 34, 90]\n",
    "n = 2\n",
    "remove_outliers(arr, n)\n",
    "```\n",
    "<br>\n",
    "    \n",
    "```\n",
    "El arreglo original (ordenado) es: [1, 12, 23, 34, 45, 56, 67, 78, 89, 90]\n",
    "El arreglo sin los valores atípicos es: [23, 34, 45, 56, 67, 78]\n",
    "\n",
    "[23, 34, 45, 56, 67, 78]\n",
    "```\n",
    "---\n",
    "```python\n",
    "arr = [12, 45, 67, 89, 23, 1, 56, 78, 34, 90]\n",
    "n = 5\n",
    "remove_outliers(arr, n)\n",
    "```\n",
    "<br>\n",
    "    \n",
    "```\n",
    "Error: el valor de 'n' no puede ser mayor o igual que la mitad de la longitud del arreglo.\n",
    "\n",
    "[]\n",
    "```\n",
    "---\n",
    "</font>"
   ]
  },
  {
   "cell_type": "code",
   "execution_count": 26,
   "id": "9bcec726-2065-4d43-a8f8-4e989317c7ea",
   "metadata": {
    "deletable": false,
    "nbgrader": {
     "cell_type": "code",
     "checksum": "3176e94af9881dd8af732b46099977ba",
     "grade": false,
     "grade_id": "cell-e87d1097597dc86d",
     "locked": false,
     "schema_version": 3,
     "solution": true,
     "task": false
    },
    "tags": []
   },
   "outputs": [],
   "source": [
    "# YOUR CODE HERE\n",
    "arr = [12, 45, 67, 89, 23, 1, 56, 78, 34, 90]\n",
    "def remove_outliers(arr,n):\n",
    "    if len(arr) > 2*n:\n",
    "        if n > 0:\n",
    "            n = int(n)\n",
    "            ordenado = np.sort(arr)\n",
    "            remove1 = ordenado[n:]\n",
    "            remove2 = remove1[:-n]\n",
    "            return remove2\n",
    "        else:\n",
    "            return print(\"El número que digitaste es negativo\")\n",
    "    else:\n",
    "        return []"
   ]
  },
  {
   "cell_type": "code",
   "execution_count": 28,
   "id": "cf65ddd1-9a15-4940-8654-6ad87c5a5312",
   "metadata": {
    "tags": []
   },
   "outputs": [
    {
     "data": {
      "text/plain": [
       "[]"
      ]
     },
     "execution_count": 28,
     "metadata": {},
     "output_type": "execute_result"
    }
   ],
   "source": [
    "remove_outliers(arr,5)"
   ]
  },
  {
   "cell_type": "code",
   "execution_count": 29,
   "id": "8af50eab-2e35-43d2-8fdc-f688eb2259d0",
   "metadata": {
    "deletable": false,
    "editable": false,
    "nbgrader": {
     "cell_type": "code",
     "checksum": "bde114bcf48815b7b2046a39bb4e69aa",
     "grade": true,
     "grade_id": "cell-2960a59440be0b9f",
     "locked": true,
     "points": 1,
     "schema_version": 3,
     "solution": false,
     "task": false
    },
    "tags": []
   },
   "outputs": [
    {
     "name": "stdout",
     "output_type": "stream",
     "text": [
      "\u001b[39m--------------------------------------------------------------------------------\n",
      "\u001b[32mTu resultado es correcto.\n",
      "\u001b[39m--------------------------------------------------------------------------------\n",
      "\u001b[39m--------------------------------------------------------------------------------\n",
      "\u001b[32mTu resultado es correcto.\n",
      "\u001b[39m--------------------------------------------------------------------------------\n"
     ]
    }
   ],
   "source": [
    "arr = [12, 45, 67, 89, 23, 1, 56, 78, 34, 90]\n",
    "quizz.eval_numeric('12', np.array(remove_outliers(arr, 2)))\n",
    "quizz.eval_numeric('13', np.array(remove_outliers(arr, 5)))"
   ]
  },
  {
   "cell_type": "markdown",
   "id": "0e71c18a-1807-415c-b46a-6970fadbe3ce",
   "metadata": {
    "deletable": false,
    "editable": false,
    "nbgrader": {
     "cell_type": "markdown",
     "checksum": "c5f900d26cf64958d5e5fdb5dbe572c3",
     "grade": false,
     "grade_id": "cell-a6f21a11c544b515",
     "locked": true,
     "schema_version": 3,
     "solution": false,
     "task": false
    },
    "tags": []
   },
   "source": [
    "---\n",
    "## **<font color=\"DodgerBlue\">Ejercicio 6. Teclas y mensajes.</font>**\n",
    "\n",
    "<font color=\"DarkBlue\"> \n",
    "En un télefono celular básico, es posible enviar mensajes de texto usando el teclado numérico; cada tecla tiene varias letras asociadas, por lo que es necesario presionar una tecla varis vecees para obtener una letra. Presionar el número una vez genera la primera letra; presionar el número 2, 3, 4 o 5 veces genera el segundo, tercero, cuarto o quinto\n",
    "carácter respectivamente. La siguiente tabla muestra este mapeo entre teclas, letras y número de veces que hay que presionar para obtener una letra:\n",
    "\n",
    "| Tecla | Símbolos | \n",
    "|---|---|\n",
    "|1| . , ? ¿ ! ¡ : |\n",
    "|2|A B C|\n",
    "|3|D E F|\n",
    "|4|G H I|\n",
    "|5|J K L|\n",
    "|6|M N O|\n",
    "|7|P Q R S|\n",
    "|8|T U V|\n",
    "|9|W X Y Z|\n",
    "|0|espacio|\n",
    "\n",
    "Por ejemplo, para obtener el símbolo \"¿\" se debe presionar la tecla 1 cinco veces: 11111. Entonces, para generar el mensaje: ¡BUENOS DIAS! se debe realizar la siguiente secuencia: \n",
    "$$\n",
    "\\underbrace{111111}_{¡}\\underbrace{22}_{B}\\underbrace{88}_{U}\\underbrace{33}_{E}\\underbrace{66}_{N}\\underbrace{666}_{O}\\underbrace{7777}_{S}\\underbrace{0}_{esp}\\underbrace{3}_{D}\\underbrace{444}_{I}\\underbrace{2}_{A}\\underbrace{7777}_{S}\\underbrace{11111}_{!}\n",
    "$$\n",
    "\n",
    "Usando listas, cadenas y diccionarios, construya la función <font style=\"font-family:'Courier New'\" color=\"blue\"><b>teclazos(mensaje)</b></font> que reciba una cadena con un mensaje y que devuelva el mapeo de veces que se debe presionar cada tecla para generar el mensaje.\n",
    "</font>\n",
    "\n",
    "---\n"
   ]
  },
  {
   "cell_type": "code",
   "execution_count": 36,
   "id": "ca4c1294-bf74-49aa-a386-ca4002233741",
   "metadata": {
    "deletable": false,
    "nbgrader": {
     "cell_type": "code",
     "checksum": "3d606570ba9ca84aa1c35f003ec99545",
     "grade": false,
     "grade_id": "cell-59fe7455a26ad89f",
     "locked": false,
     "schema_version": 3,
     "solution": true,
     "task": false
    },
    "tags": []
   },
   "outputs": [],
   "source": [
    "# YOUR CODE HERE\n",
    "def teclazos(mensaje):\n",
    "    teclado = {\n",
    "        '1': '.,?¿!¡:',\n",
    "        '2': 'ABC',\n",
    "        '3': 'DEF',\n",
    "        '4': 'GHI',\n",
    "        '5': 'JKL',\n",
    "        '6': 'MNO',\n",
    "        '7': 'PQRS',\n",
    "        '8': 'TUV',\n",
    "        '9': 'WXYZ',\n",
    "        '0': ' '\n",
    "    }\n",
    "\n",
    "    resultado = ''\n",
    "\n",
    "    for letra in mensaje:\n",
    "        letra = letra.upper()\n",
    "\n",
    "        for tecla, letras_tecla in teclado.items():\n",
    "            veces_presionar = letras_tecla.find(letra) + 1\n",
    "            if veces_presionar > 0:\n",
    "                resultado += tecla * veces_presionar\n",
    "                break\n",
    "\n",
    "    return resultado"
   ]
  },
  {
   "cell_type": "code",
   "execution_count": 37,
   "id": "a93b94e0-f5c6-48ba-b431-18eb0b57b151",
   "metadata": {
    "tags": []
   },
   "outputs": [
    {
     "name": "stdout",
     "output_type": "stream",
     "text": [
      "111111228833666667777034442777711111\n"
     ]
    }
   ],
   "source": [
    "mensaje = '¡BUENOS DIAS!'\n",
    "mapeo = teclazos(mensaje)\n",
    "print(mapeo)"
   ]
  },
  {
   "cell_type": "code",
   "execution_count": 38,
   "id": "89be1a02-cf12-4aa8-9b6c-81298028cbff",
   "metadata": {
    "deletable": false,
    "editable": false,
    "nbgrader": {
     "cell_type": "code",
     "checksum": "a0620f96d7f10017b0cfeedc5972fec2",
     "grade": true,
     "grade_id": "cell-9b4333128d92e3e4",
     "locked": true,
     "points": 1,
     "schema_version": 3,
     "solution": false,
     "task": false
    },
    "tags": []
   },
   "outputs": [
    {
     "name": "stdout",
     "output_type": "stream",
     "text": [
      "\u001b[39m--------------------------------------------------------------------------------\n",
      "\u001b[32mTu resultado es correcto.\n",
      "\u001b[39m--------------------------------------------------------------------------------\n"
     ]
    }
   ],
   "source": [
    "quizz.eval_numeric('14', teclazos('¡BUENOS DIAS!'))"
   ]
  },
  {
   "cell_type": "markdown",
   "id": "97d6dcb5-b895-4ce2-95f8-944ccc3da49e",
   "metadata": {
    "deletable": false,
    "editable": false,
    "nbgrader": {
     "cell_type": "markdown",
     "checksum": "d5d7146457de0a70ca930b502a5e5a38",
     "grade": false,
     "grade_id": "cell-6e7fe6c8df182a3c",
     "locked": true,
     "schema_version": 3,
     "solution": false,
     "task": false
    },
    "tags": []
   },
   "source": [
    "---\n",
    "## **<font color=\"DodgerBlue\">Ejercicio 7. Criba de Eratóstenes: paso 1.</font>**\n",
    "\n",
    "<font color=\"DarkBlue\"> \n",
    "Vamos a calcular los números primos en el rango $[2, N]$, siguiendo los pasos de la Criba de Eratóstenes, usando <i>comprehension list</i> y <i>comprehension set</i>.<br><br>\n",
    "\n",
    "    \n",
    "En este primer paso construye una lista de números de la forma $[2,3,4, \\dots, n]$ tal que $n^2 \\leq N$, para ello utiliza una <i>comprehension list</i>. Por ejemplo, para $N = 50$, la lista debe ser $[2, 3, 4, 5, 6, 7]$. Usa el nombre <font style=\"font-family:'Courier New'\" color=\"blue\"><b>lista_numeros</b></font> para esta lista de números. \n",
    "</font>\n",
    "\n",
    "---"
   ]
  },
  {
   "cell_type": "code",
   "execution_count": 45,
   "id": "f4845124-e322-48d0-882c-11e84270b19f",
   "metadata": {
    "deletable": false,
    "nbgrader": {
     "cell_type": "code",
     "checksum": "b5d809495758148545032c84a082c993",
     "grade": false,
     "grade_id": "cell-76b36e70d751b2c6",
     "locked": false,
     "schema_version": 3,
     "solution": true,
     "task": false
    },
    "tags": []
   },
   "outputs": [],
   "source": [
    "# YOUR CODE HERE\n",
    "def lista(N):\n",
    "    lista_numeros = [n for n in range(2,N) if n**2 <= N]\n",
    "    return lista_numeros\n"
   ]
  },
  {
   "cell_type": "code",
   "execution_count": 46,
   "id": "0fc54cc2-bca6-402f-99f4-42085bee4e9e",
   "metadata": {
    "tags": []
   },
   "outputs": [
    {
     "data": {
      "text/plain": [
       "[2, 3, 4, 5, 6, 7]"
      ]
     },
     "execution_count": 46,
     "metadata": {},
     "output_type": "execute_result"
    }
   ],
   "source": [
    "lista(50)"
   ]
  },
  {
   "cell_type": "code",
   "execution_count": 49,
   "id": "752b812a-1782-4e56-a440-530db309179e",
   "metadata": {
    "tags": []
   },
   "outputs": [],
   "source": [
    "def lista(N):\n",
    "    lista_numeros = []\n",
    "    for n in range(2,N):\n",
    "        if n**2 <= N:\n",
    "            lista_numeros.append(n)\n",
    "    return lista_numeros"
   ]
  },
  {
   "cell_type": "code",
   "execution_count": 50,
   "id": "fbbb130c-8627-47a5-8bef-9076571744c9",
   "metadata": {
    "tags": []
   },
   "outputs": [
    {
     "data": {
      "text/plain": [
       "[2, 3, 4, 5, 6, 7]"
      ]
     },
     "execution_count": 50,
     "metadata": {},
     "output_type": "execute_result"
    }
   ],
   "source": [
    "lista(50)"
   ]
  },
  {
   "cell_type": "code",
   "execution_count": 42,
   "id": "b5499ec9-2217-4f95-900d-cc9732675ece",
   "metadata": {
    "tags": []
   },
   "outputs": [],
   "source": [
    "lista_numeros = lista(50)"
   ]
  },
  {
   "cell_type": "code",
   "execution_count": 43,
   "id": "c0bbc393-92ba-4f7b-84ca-a8d71eb583dc",
   "metadata": {
    "deletable": false,
    "editable": false,
    "nbgrader": {
     "cell_type": "code",
     "checksum": "e7be8db3a51ca4b8db6218b0cf5d96d3",
     "grade": true,
     "grade_id": "cell-9892d9f4dd08b4f6",
     "locked": true,
     "points": 1,
     "schema_version": 3,
     "solution": false,
     "task": false
    },
    "tags": []
   },
   "outputs": [
    {
     "name": "stdout",
     "output_type": "stream",
     "text": [
      "\u001b[39m--------------------------------------------------------------------------------\n",
      "\u001b[32mTu resultado es correcto.\n",
      "\u001b[39m--------------------------------------------------------------------------------\n"
     ]
    }
   ],
   "source": [
    "quizz.eval_numeric('15', np.array(lista_numeros))"
   ]
  },
  {
   "cell_type": "markdown",
   "id": "ff1f1418-0988-4124-b47f-397e7f721cd3",
   "metadata": {
    "deletable": false,
    "editable": false,
    "nbgrader": {
     "cell_type": "markdown",
     "checksum": "ddef9f84eb4923036b191644ced60a1b",
     "grade": false,
     "grade_id": "cell-706361ed85bb83bb",
     "locked": true,
     "schema_version": 3,
     "solution": false,
     "task": false
    },
    "tags": []
   },
   "source": [
    "---\n",
    "## **<font color=\"DodgerBlue\">Ejercicio 8. Criba de Eratóstenes: paso 2.</font>**\n",
    "\n",
    "<font color=\"DarkBlue\"> \n",
    "Ahora, construya un conjunto con todos los múltiplos de los números almacenados en <font style=\"font-family:'Courier New'\" color=\"blue\"><b>lista_numeros</b></font> creada en el ejercicio 6, desde $4$ hasta $N$. Usando $N = 50$ dicho conjunto debe ser <font style=\"font-family:'Courier New'\" color=\"blue\">{4, 6, 8, 9, 10, 12, 14, 15, 16, 18, 20, 21, 22, 24, 25, 26, 27, 28, 30, 32, 33, 34, 35, 36, 38, 39, 40, 42, 44, 45, 46, 48, 49}</b></font>. Observa que este conjunto no contiene primos; usa el nombre <font style=\"font-family:'Courier New'\" color=\"blue\"><b>no_primos</b></font> para este conjunto. Utiliza <i>comprehension set</i> para realizar este ejercicio.\n",
    "\n",
    "\n",
    "**Hint.**\n",
    "Usando dos ciclos **for** simples el conjunto se puede construir como sigue:\n",
    "\n",
    "```python\n",
    "no_primos = set()\n",
    "for i in lista_numeros:\n",
    "    for j in range(i*2, 50, i):\n",
    "        no_primos.add(j)\n",
    "```\n",
    "<br>\n",
    "Lo anterior se puede hacer en una sola línea de código usando comprehension set anidados.\n",
    "\n",
    "</font>\n",
    "\n",
    "---"
   ]
  },
  {
   "cell_type": "code",
   "execution_count": 53,
   "id": "f400bb46-2e5a-47a4-bf56-617b5d71e92b",
   "metadata": {
    "deletable": false,
    "nbgrader": {
     "cell_type": "code",
     "checksum": "2dafafa72739ccb4e8c8a0be199e394b",
     "grade": false,
     "grade_id": "cell-23384e4442e8822b",
     "locked": false,
     "schema_version": 3,
     "solution": true,
     "task": false
    },
    "tags": []
   },
   "outputs": [
    {
     "name": "stdout",
     "output_type": "stream",
     "text": [
      "{4, 6, 8, 9, 10, 12, 14, 15, 16, 18, 20, 21, 22, 24, 25, 26, 27, 28, 30, 32, 33, 34, 35, 36, 38, 39, 40, 42, 44, 45, 46, 48, 49}\n"
     ]
    }
   ],
   "source": [
    "# YOUR CODE HERE\n",
    "N = 50\n",
    "\n",
    "# Construir el conjunto de no primos\n",
    "no_primos = {j for i in lista_numeros for j in range(i*2, N, i)}\n",
    "\n",
    "print(no_primos)"
   ]
  },
  {
   "cell_type": "code",
   "execution_count": 54,
   "id": "afe12071-53c7-416f-9947-2e300738b3e1",
   "metadata": {
    "deletable": false,
    "editable": false,
    "nbgrader": {
     "cell_type": "code",
     "checksum": "e71e112374171c6253eb6c73a7fbf09b",
     "grade": true,
     "grade_id": "cell-2c68d97be6ca238e",
     "locked": true,
     "points": 1,
     "schema_version": 3,
     "solution": false,
     "task": false
    },
    "tags": []
   },
   "outputs": [
    {
     "name": "stdout",
     "output_type": "stream",
     "text": [
      "\u001b[39m--------------------------------------------------------------------------------\n",
      "\u001b[32mTu resultado es correcto.\n",
      "\u001b[39m--------------------------------------------------------------------------------\n"
     ]
    }
   ],
   "source": [
    "quizz.eval_numeric('16', np.array(list(no_primos)))"
   ]
  },
  {
   "cell_type": "markdown",
   "id": "75157eb7-67c5-4e0b-8217-aad71e01ca6a",
   "metadata": {
    "deletable": false,
    "editable": false,
    "nbgrader": {
     "cell_type": "markdown",
     "checksum": "75f000705c1f308415ec00c30b7b5d77",
     "grade": false,
     "grade_id": "cell-69c8ce7bc88e7ada",
     "locked": true,
     "schema_version": 3,
     "solution": false,
     "task": false
    },
    "tags": []
   },
   "source": [
    "---\n",
    "## **<font color=\"DodgerBlue\">Ejercicio 9. Criba de Eratóstenes: paso 3.</font>**\n",
    "\n",
    "<font color=\"DarkBlue\"> \n",
    "Finalmente, usando una <i>comrehension list</i> encuentre los primos en el rango $[2,N]$. Básicamente lo único que hay que hacer es revisar qué números no están en el conjunto <font style=\"font-family:'Courier New'\" color=\"blue\"><b>no_primos</b></font> y agregarlos a una lista que se llame <font style=\"font-family:'Courier New'\" color=\"blue\"><b>primos</b></font>.\n",
    "    \n",
    "**Hint.**\n",
    "Recuerda que la forma de una comprehension list es:\n",
    "\n",
    "```python\n",
    "[ out_expression for name in secuence if predicate ]\n",
    "```\n",
    "<br>\n",
    "En este caso debes usar el <b>predicate</b> para probar que un número dado no esté en el conjunto <font style=\"font-family:'Courier New'\" color=\"blue\"><b>no_primos</b></font>.\n",
    "\n",
    "</font>\n",
    "\n",
    "---"
   ]
  },
  {
   "cell_type": "code",
   "execution_count": 57,
   "id": "83c88949-f56a-4d2d-9f20-73a0c8a128dc",
   "metadata": {
    "deletable": false,
    "nbgrader": {
     "cell_type": "code",
     "checksum": "22320b29167ebd2bb83c192ea827836b",
     "grade": false,
     "grade_id": "cell-043bad9ae2da10a3",
     "locked": false,
     "schema_version": 3,
     "solution": true,
     "task": false
    },
    "tags": []
   },
   "outputs": [
    {
     "name": "stdout",
     "output_type": "stream",
     "text": [
      "[2, 3, 5, 7, 11, 13, 17, 19, 23, 29, 31, 37, 41, 43, 47]\n"
     ]
    }
   ],
   "source": [
    "# YOUR CODE HERE\n",
    "N = 50\n",
    "\n",
    "# Encontrar los números primos\n",
    "primos = [num for num in range(2, N) if num not in no_primos]\n",
    "\n",
    "print(primos)"
   ]
  },
  {
   "cell_type": "code",
   "execution_count": 58,
   "id": "cd580d76-9886-4f7c-9924-91457f395584",
   "metadata": {
    "deletable": false,
    "editable": false,
    "nbgrader": {
     "cell_type": "code",
     "checksum": "f99c492781263335bd91a35dda9ed0fc",
     "grade": true,
     "grade_id": "cell-bd8f84187b80f085",
     "locked": true,
     "points": 1,
     "schema_version": 3,
     "solution": false,
     "task": false
    },
    "tags": []
   },
   "outputs": [
    {
     "name": "stdout",
     "output_type": "stream",
     "text": [
      "\u001b[39m--------------------------------------------------------------------------------\n",
      "\u001b[32mTu resultado es correcto.\n",
      "\u001b[39m--------------------------------------------------------------------------------\n"
     ]
    }
   ],
   "source": [
    "quizz.eval_numeric('17', np.array(primos))"
   ]
  },
  {
   "cell_type": "code",
   "execution_count": null,
   "id": "b6a1324c-69c5-4b31-bcc1-d9d2543a2d56",
   "metadata": {},
   "outputs": [],
   "source": []
  }
 ],
 "metadata": {
  "kernelspec": {
   "display_name": "Python 3 (ipykernel)",
   "language": "python",
   "name": "python3"
  },
  "language_info": {
   "codemirror_mode": {
    "name": "ipython",
    "version": 3
   },
   "file_extension": ".py",
   "mimetype": "text/x-python",
   "name": "python",
   "nbconvert_exporter": "python",
   "pygments_lexer": "ipython3",
   "version": "3.10.10"
  }
 },
 "nbformat": 4,
 "nbformat_minor": 5
}
