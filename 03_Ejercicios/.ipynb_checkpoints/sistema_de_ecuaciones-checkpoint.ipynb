{
 "cells": [
  {
   "cell_type": "markdown",
   "id": "e279f088",
   "metadata": {},
   "source": [
    "Before you turn this problem in, make sure everything runs as expected. First, **restart the kernel** (in the menubar, select Kernel$\\rightarrow$Restart) and then **run all cells** (in the menubar, select Cell$\\rightarrow$Run All).\n",
    "\n",
    "Make sure you fill in any place that says `YOUR CODE HERE` or \"YOUR ANSWER HERE\", as well as your name and collaborators below:"
   ]
  },
  {
   "cell_type": "code",
   "execution_count": null,
   "id": "7bb0d6f1",
   "metadata": {},
   "outputs": [],
   "source": [
    "NAME = \"\"\n",
    "COLLABORATORS = \"\""
   ]
  },
  {
   "cell_type": "markdown",
   "id": "9a979850",
   "metadata": {},
   "source": [
    "---"
   ]
  },
  {
   "cell_type": "markdown",
   "id": "9e107c84-6bc6-434d-b7e0-2edd47efcee7",
   "metadata": {},
   "source": [
    "# Introducción a Python para IA.\n",
    "\n",
    " <p xmlns:cc=\"http://creativecommons.org/ns#\" xmlns:dct=\"http://purl.org/dc/terms/\"><a property=\"dct:title\" rel=\"cc:attributionURL\" href=\"https://github.com/luiggix/intro_MeIA_2023\">Introducción a Python para IA</a> by <span property=\"cc:attributionName\">Luis Miguel de la Cruz Salas</span> is licensed under <a href=\"http://creativecommons.org/licenses/by-nc-sa/4.0/?ref=chooser-v1\" target=\"_blank\" rel=\"license noopener noreferrer\" style=\"display:inline-block;\">CC BY-NC-SA 4.0<img style=\"height:22px!important;margin-left:3px;vertical-align:text-bottom;\" src=\"https://mirrors.creativecommons.org/presskit/icons/cc.svg?ref=chooser-v1\"><img style=\"height:22px!important;margin-left:3px;vertical-align:text-bottom;\" src=\"https://mirrors.creativecommons.org/presskit/icons/by.svg?ref=chooser-v1\"><img style=\"height:22px!important;margin-left:3px;vertical-align:text-bottom;\" src=\"https://mirrors.creativecommons.org/presskit/icons/nc.svg?ref=chooser-v1\"><img style=\"height:22px!important;margin-left:3px;vertical-align:text-bottom;\" src=\"https://mirrors.creativecommons.org/presskit/icons/sa.svg?ref=chooser-v1\"></a></p> \n",
    "\n",
    "# Objetivos.\n",
    "Aplicar tus conocimientos de numpy y álgebra lineal a la solución de un sistema de ecuaciones."
   ]
  },
  {
   "cell_type": "markdown",
   "id": "944c2e64-b5e4-441a-b114-0b0c3447e064",
   "metadata": {
    "deletable": false,
    "editable": false,
    "nbgrader": {
     "cell_type": "markdown",
     "checksum": "01bda970b8b18c8a1eabcd786490a58f",
     "grade": false,
     "grade_id": "cell-54222239890a3848",
     "locked": true,
     "schema_version": 3,
     "solution": false,
     "task": false
    }
   },
   "source": [
    "# Planes de telefonía móvil.\n",
    "\n",
    "Dos compañías de telefonía compiten por ganar clientes. En la tabla que sigue se muestra el costo de la renta y el costo por Megabyte (MB) de datos de cada compañía.\n",
    "\n",
    "|    | Renta mensual | Costo por MB |\n",
    "|:--:|:----: | :----------: |\n",
    "| Compañía A  | $200$ | $0.10$       |\n",
    "| Compañía B  | $20$  | $0.30$       |\n",
    "\n",
    "**¿Cómo podríamos decidir cuál de estas companías conviene contratar?**"
   ]
  },
  {
   "cell_type": "markdown",
   "id": "10dec296-8563-4688-aa90-a1fcc2c4d5d4",
   "metadata": {
    "deletable": false,
    "editable": false,
    "nbgrader": {
     "cell_type": "markdown",
     "checksum": "83edda30e5f04780041b16fa4ef7dd52",
     "grade": false,
     "grade_id": "cell-f45ccbc89b20c7bc",
     "locked": true,
     "schema_version": 3,
     "solution": false,
     "task": false
    }
   },
   "source": [
    "## Modelo matemático\n",
    "- Observamos en la tabla anterior que la compañía A tiene un precio fijo de 200 pesos mensuales que es 10 veces mayor al precio que cobra la compañía B (20 pesos). \n",
    "- Por otro lado, la compañía B cobra 0.30 pesos por cada MB, que es 3 veces mayor al precio por MB de la compañía A. \n",
    "- El precio final mensual de cada compañía depende básicamente de cuantos MB se usen. \n",
    "\n",
    "Podemos escribir la forma en que cambia el precio de cada compañía en función de los MB usados:\n",
    "\n",
    "$\n",
    "\\begin{array}{ccc}\n",
    "P_A & = & 0.10 x + 200 \\tag{1}\\\\\n",
    "P_B & = & 0.30 x + 20\n",
    "\\end{array}\n",
    "$\n",
    "\n",
    "donde $x$ representa el número de MB usados durante un mes. "
   ]
  },
  {
   "cell_type": "markdown",
   "id": "8ea4cb18-9ca4-4ef6-94b1-e79969973896",
   "metadata": {
    "deletable": false,
    "editable": false,
    "nbgrader": {
     "cell_type": "markdown",
     "checksum": "9d33a7f090b5f983df6a805240d26804",
     "grade": false,
     "grade_id": "cell-2977892199aab2e5",
     "locked": true,
     "schema_version": 3,
     "solution": false,
     "task": false
    }
   },
   "source": [
    "---\n",
    "<a name='ej-1'></a>\n",
    "### **<font color=\"DodgerBlue\">Ejercicio 1. Gráfica de rectas.</font>**\n",
    "\n",
    "<font color=\"DarkBlue\">En el código siguiente complete las fórmulas para cada compañía de acuerdo con las ecuaciones dadas en (1) y posteriormente ejecute el código para obtener una gráfica de cómo cambia el precio en función de los MB utilizados.</font>\n",
    "\n",
    "---"
   ]
  },
  {
   "cell_type": "code",
   "execution_count": null,
   "id": "1f80b7a7-d2a7-40c8-b671-9621a6ebbf18",
   "metadata": {
    "deletable": false,
    "editable": false,
    "nbgrader": {
     "cell_type": "code",
     "checksum": "4a2f952a0a95e7f9b43fd909e9952874",
     "grade": false,
     "grade_id": "cell-c0896d95269a4ed7",
     "locked": true,
     "schema_version": 3,
     "solution": false,
     "task": false
    },
    "tags": []
   },
   "outputs": [],
   "source": [
    "# Importación de las bibliotecas numpy y matplotlib\n",
    "import numpy as np\n",
    "import matplotlib.pyplot as plt\n",
    "import ipywidgets as widgets\n",
    "import macti.visual\n",
    "import macro\n",
    "\n",
    "from macti.evaluation import Quizz\n",
    "quizz = Quizz('4', 'intro_MeIA_2023_NBG', '03_Ejercicios')"
   ]
  },
  {
   "cell_type": "markdown",
   "id": "fe48e576-4230-484d-babe-52772a9dbb74",
   "metadata": {
    "deletable": false,
    "editable": false,
    "nbgrader": {
     "cell_type": "markdown",
     "checksum": "589183e2a46d5184bb3538ed8d9eaad9",
     "grade": false,
     "grade_id": "cell-7136f8270adcd0f9",
     "locked": true,
     "schema_version": 3,
     "solution": false,
     "task": false
    }
   },
   "source": [
    "Fórmulas a implementar:\n",
    "$\n",
    "\\begin{array}{ccc}\n",
    "P_A & = & 0.10 x + 200\\\\\n",
    "P_B & = & 0.30 x + 20\n",
    "\\end{array}\n",
    "$"
   ]
  },
  {
   "cell_type": "code",
   "execution_count": null,
   "id": "10c147ed-c696-4a97-8618-dc2c797c9fbb",
   "metadata": {
    "deletable": false,
    "nbgrader": {
     "cell_type": "code",
     "checksum": "218722a3dd35485f25d241480657ba6f",
     "grade": false,
     "grade_id": "cell-e79d1b24ab88a34b",
     "locked": false,
     "schema_version": 3,
     "solution": true,
     "task": false
    },
    "tags": []
   },
   "outputs": [],
   "source": [
    "# Megabytes desde 0 hasta 1500 (1.5 GB) en pasos de 10.\n",
    "x = np.linspace(0,1500,10)\n",
    "\n",
    "# Fórmulas de cada compañía\n",
    "# PA = ...\n",
    "# PB = ...\n",
    "#\n",
    "# YOUR CODE HERE\n",
    "raise NotImplementedError()"
   ]
  },
  {
   "cell_type": "code",
   "execution_count": null,
   "id": "813ef24c-8d02-418b-a730-db05217044ca",
   "metadata": {
    "deletable": false,
    "editable": false,
    "nbgrader": {
     "cell_type": "code",
     "checksum": "ad9ebbc821bbb883804401a6b61d2080",
     "grade": true,
     "grade_id": "cell-b3973b011a5b51aa",
     "locked": true,
     "points": 1,
     "schema_version": 3,
     "solution": false,
     "task": false
    },
    "tags": []
   },
   "outputs": [],
   "source": [
    "quizz.eval_numeric('1', PA)"
   ]
  },
  {
   "cell_type": "code",
   "execution_count": null,
   "id": "e6e0664f-788d-49fd-83f7-33227e14ac71",
   "metadata": {
    "deletable": false,
    "editable": false,
    "nbgrader": {
     "cell_type": "code",
     "checksum": "b2e01825829bc0486cfca27eea6f5527",
     "grade": true,
     "grade_id": "cell-753ba83af034005a",
     "locked": true,
     "points": 1,
     "schema_version": 3,
     "solution": false,
     "task": false
    },
    "tags": []
   },
   "outputs": [],
   "source": [
    "quizz.eval_numeric('2', PB)"
   ]
  },
  {
   "cell_type": "code",
   "execution_count": null,
   "id": "7006a7a7-494b-46e3-9298-58f0ef7f0fd3",
   "metadata": {
    "tags": []
   },
   "outputs": [],
   "source": [
    "# Esta función grafica las rectas\n",
    "macro.graf_rectas(x, PA, PB, 'PA = 0.10 * x + 200', 'PB = 0.30 * x + 20', aspect='auto')"
   ]
  },
  {
   "cell_type": "markdown",
   "id": "02185801-d33c-4c36-91a1-e824903190f5",
   "metadata": {
    "deletable": false,
    "editable": false,
    "nbgrader": {
     "cell_type": "markdown",
     "checksum": "dd94a55d92cba2a9f4a5e5912d1b67e2",
     "grade": false,
     "grade_id": "cell-2d1e99f212f5de5e",
     "locked": true,
     "schema_version": 3,
     "solution": false,
     "task": false
    }
   },
   "source": [
    "**¿Qué observamos en la figura anterior?**\n",
    "\n",
    "Para decidir cuál de los dos compañías elegir, debemos saber cuantos MB gastamos al mes. En la figura se ve que al principio, con pocos MB usados conviene contratar a la compañía B. Pero después, si hacemos uso intenso de nuestras redes sociales, el consumo de MB aumenta y como consecuencia el precio de la compañía A es más barato.\n",
    "\n",
    "**¿Será posible determinar con precisión el punto de cruce de las rectas?**\n"
   ]
  },
  {
   "cell_type": "markdown",
   "id": "77534417-0d4c-4e63-94d2-1b9f5ac57e5a",
   "metadata": {
    "deletable": false,
    "editable": false,
    "nbgrader": {
     "cell_type": "markdown",
     "checksum": "207a6a7d69c84dc28bac2d29400f4f64",
     "grade": false,
     "grade_id": "cell-2ea68e1f98d772d9",
     "locked": true,
     "schema_version": 3,
     "solution": false,
     "task": false
    }
   },
   "source": [
    "## Sistema de ecuaciones lineales.\n",
    "\n",
    "Las ecuaciones $(1)$ tienen la forma típica de una recta: $y = m x + b$\n",
    "\n",
    "Para la compañía A tenemos que $m = 0.10$ y $b = 200$, mientras que para la compañía B tenemos $m = 0.30$ y $b = 20$, entonces escribimos:\n",
    "\n",
    "$$\n",
    "\\begin{array}{ccc}\n",
    "y & = & 0.10 x + 200 \\\\\n",
    "y & = & 0.30 x + 20\n",
    "\\end{array}\n",
    "$$\n",
    "\n",
    "Ahora, es posible escribir las ecuaciones de las líneas rectas en forma de un sistema de ecuaciones lineales como sigue:\n",
    "\n",
    "$$\n",
    "\\left[\n",
    "\\begin{array}{cc}\n",
    "0.10 & -1 \\\\\n",
    "0.30 & -1\n",
    "\\end{array} \\right]\n",
    "\\left[\n",
    "\\begin{array}{c}\n",
    "x \\\\\n",
    "y\n",
    "\\end{array} \\right] =\n",
    "\\left[\n",
    "\\begin{array}{c}\n",
    "-200 \\\\ \n",
    "-20\n",
    "\\end{array} \\right] \\tag{2}\n",
    "$$\n",
    "\n",
    "**¿Puede verificar que el sistema (2) es correcto?**\n",
    "\n",
    "Si resolvemos el sistema (2) entonces será posible conocer de manera precisa el cruce de las rectas."
   ]
  },
  {
   "cell_type": "markdown",
   "id": "1c30e211-74b6-49c1-9262-aa18e2874b0b",
   "metadata": {
    "deletable": false,
    "editable": false,
    "nbgrader": {
     "cell_type": "markdown",
     "checksum": "688d73dc7b7b3afdc2dadc2964ab7372",
     "grade": false,
     "grade_id": "cell-cab4af23671c7b87",
     "locked": true,
     "schema_version": 3,
     "solution": false,
     "task": false
    }
   },
   "source": [
    "---\n",
    "### **<font color=\"DodgerBlue\">Ejercicio 2. Solución del sistema lineal.</font>**\n",
    "\n",
    "<font color=\"DarkBlue\">1. En el siguiente código, complete los datos de la matriz `A` y el vector `b` de acuerdo con el sistema (2).</font>\n",
    "\n",
    "---"
   ]
  },
  {
   "cell_type": "code",
   "execution_count": null,
   "id": "34096bb9-caab-494e-b596-2677d49e1f25",
   "metadata": {
    "deletable": false,
    "nbgrader": {
     "cell_type": "code",
     "checksum": "cb3eec2c148f7baa0dc3d5f79a9955d6",
     "grade": false,
     "grade_id": "cell-89d7f0096147cc45",
     "locked": false,
     "schema_version": 3,
     "solution": true,
     "task": false
    },
    "tags": []
   },
   "outputs": [],
   "source": [
    "# Definimos la matriz A y el vector b\n",
    "# A = np.array([[],[]])\n",
    "# B = np.array([[]])\n",
    "#\n",
    "# YOUR CODE HERE\n",
    "raise NotImplementedError()\n",
    "\n",
    "print(\"Matriz A : \\n\", A)\n",
    "print(\"Vector b : \\n\", b)"
   ]
  },
  {
   "cell_type": "code",
   "execution_count": null,
   "id": "d38fd96f-039e-45d2-8151-345640939fbd",
   "metadata": {
    "deletable": false,
    "editable": false,
    "nbgrader": {
     "cell_type": "code",
     "checksum": "2d7506d37d6c1a943ebc3180b98cbc53",
     "grade": true,
     "grade_id": "cell-1361a5816a58c3c4",
     "locked": true,
     "points": 1,
     "schema_version": 3,
     "solution": false,
     "task": false
    },
    "tags": []
   },
   "outputs": [],
   "source": [
    "quizz.eval_numeric('3', A)"
   ]
  },
  {
   "cell_type": "code",
   "execution_count": null,
   "id": "a5815f4e-9165-498b-b6c9-870dc58176c3",
   "metadata": {
    "deletable": false,
    "editable": false,
    "nbgrader": {
     "cell_type": "code",
     "checksum": "82efe3c41c213f6dce5a81684c80932f",
     "grade": true,
     "grade_id": "cell-b9a8e14b3f010794",
     "locked": true,
     "points": 1,
     "schema_version": 3,
     "solution": false,
     "task": false
    },
    "tags": []
   },
   "outputs": [],
   "source": [
    "quizz.eval_numeric('4', b)"
   ]
  },
  {
   "cell_type": "markdown",
   "id": "9da912c9-4432-4286-9504-211f5a702f59",
   "metadata": {
    "deletable": false,
    "editable": false,
    "nbgrader": {
     "cell_type": "markdown",
     "checksum": "3bcd98bd911ac6244655be94dd5f047f",
     "grade": false,
     "grade_id": "cell-4d8ff338dc348e8e",
     "locked": true,
     "schema_version": 3,
     "solution": false,
     "task": false
    }
   },
   "source": [
    "---\n",
    "<font color=\"DarkBlue\">2. Utilice la función <a href=\"https://numpy.org/doc/stable/reference/generated/numpy.linalg.solve.html\">numpy.linalg.solve()</a> para resolver el sistema de ecuaciones. Resuelva el sistema y guarde la solución en el vector `xsol`.</font>\n",
    "\n",
    "---"
   ]
  },
  {
   "cell_type": "code",
   "execution_count": null,
   "id": "8b547640-4e95-48ef-8f66-e7d6f8ada024",
   "metadata": {
    "deletable": false,
    "nbgrader": {
     "cell_type": "code",
     "checksum": "29ba9dc147b2522daed65f8814225d5d",
     "grade": false,
     "grade_id": "cell-34a26f17f0fc4932",
     "locked": false,
     "schema_version": 3,
     "solution": true,
     "task": false
    },
    "tags": []
   },
   "outputs": [],
   "source": [
    "# Resolvemos el sistema de ecuaciones lineal\n",
    "# xsol = np.linalg.solve( ... )\n",
    "#\n",
    "# YOUR CODE HERE\n",
    "raise NotImplementedError()\n",
    "\n",
    "print(\"Solución del sistema: \\n\", sol)"
   ]
  },
  {
   "cell_type": "code",
   "execution_count": null,
   "id": "25cb4dd9-a7f9-43f5-9b3a-442662261d6d",
   "metadata": {
    "deletable": false,
    "editable": false,
    "nbgrader": {
     "cell_type": "code",
     "checksum": "608729608701a71455017c65e4b642b7",
     "grade": true,
     "grade_id": "cell-53d082bab90e7035",
     "locked": true,
     "points": 1,
     "schema_version": 3,
     "solution": false,
     "task": false
    },
    "tags": []
   },
   "outputs": [],
   "source": [
    "quizz.eval_numeric('5', sol)"
   ]
  },
  {
   "cell_type": "code",
   "execution_count": null,
   "id": "d758a917-f3d6-429d-a0fc-ca88792f583d",
   "metadata": {
    "tags": []
   },
   "outputs": [],
   "source": [
    "# Esta función grafica el punto de cruce de las rectas.\n",
    "macro.graf_sol(sol)\n",
    "macro.graf_rectas(x, PA, PB, 'PA = 0.10 * x + 200', 'PB = 0.30 * x + 20', aspect='auto')"
   ]
  },
  {
   "cell_type": "markdown",
   "id": "e7076b03-77f3-4442-95ed-8ec7b390bc9d",
   "metadata": {
    "deletable": false,
    "editable": false,
    "nbgrader": {
     "cell_type": "markdown",
     "checksum": "fa9c84a3e0b68659f343bcba7081478c",
     "grade": false,
     "grade_id": "cell-a5bf583ca2ff7da6",
     "locked": true,
     "schema_version": 3,
     "solution": false,
     "task": false
    }
   },
   "source": [
    "---\n",
    "<font color=\"DarkBlue\">3. Verifique que la solución es correcta multiplicando la matriz `A` por el vector solución `xsol`. El resultado debería ser el vector `b`.</font> **Hint**<font color=\"Navy\">: utilice la función</font> <a href=\"https://numpy.org/doc/stable/reference/generated/numpy.dot.html\">numpy.dot()</a>.\n",
    "\n",
    "---"
   ]
  },
  {
   "cell_type": "code",
   "execution_count": null,
   "id": "f0f76d94-8550-4ec1-a7e0-6492ef4b4b7c",
   "metadata": {
    "deletable": false,
    "nbgrader": {
     "cell_type": "code",
     "checksum": "633dbca97a92bab526fa80137a471abd",
     "grade": false,
     "grade_id": "cell-1dfcaf232f03ee0c",
     "locked": false,
     "schema_version": 3,
     "solution": true,
     "task": false
    },
    "tags": []
   },
   "outputs": [],
   "source": [
    "# Dot product\n",
    "# rhs = np.dot( ... )\n",
    "#\n",
    "# YOUR CODE HERE\n",
    "raise NotImplementedError()\n",
    "\n",
    "print('b = {}'.format(b))\n",
    "print('rhs = {}'.format(rhs.T))"
   ]
  },
  {
   "cell_type": "code",
   "execution_count": null,
   "id": "3b073dd7-026f-412d-8b50-92a815544b5b",
   "metadata": {
    "deletable": false,
    "editable": false,
    "nbgrader": {
     "cell_type": "code",
     "checksum": "915c432ff18711172ef6c2b153118a32",
     "grade": true,
     "grade_id": "cell-3ceed447d6f73115",
     "locked": true,
     "points": 0,
     "schema_version": 3,
     "solution": false,
     "task": false
    },
    "tags": []
   },
   "outputs": [],
   "source": [
    "quizz.eval_numeric('6', rhs)"
   ]
  },
  {
   "cell_type": "markdown",
   "id": "412c988f-e622-4d36-9c9e-0bd9e29228ae",
   "metadata": {
    "deletable": false,
    "editable": false,
    "nbgrader": {
     "cell_type": "markdown",
     "checksum": "9695497d42ae23d9ce493f2739e17fcb",
     "grade": false,
     "grade_id": "cell-75dacd4eb60043a9",
     "locked": true,
     "schema_version": 3,
     "solution": false,
     "task": false
    },
    "tags": []
   },
   "source": [
    "---\n",
    "### **<font color=\"DodgerBlue\">Ejercicio 3. Aplicación de métodos iterativos.</font>**\n",
    "\n",
    "<font color=\"DarkBlue\"> El módulo `metodos_iterativos.py` contiene las funciones `jacobi`, `gauss_seidel`, `sor`, `steepest` y `conjugateGradient`. Importamos dicho módulo como sigue:</font>\n",
    "\n",
    "    \n",
    "```python\n",
    "import metodos_iterativos as mi\n",
    "```\n",
    "<font color=\"DarkBlue\">\n",
    "En la celda siguiente escriba la línea de código anterior y ejecútela. Tomando como ejemplo lo realizado en la notebook <a href=\"02_Sistemas_lineales.ipynb\">02_Sistemas_lineales.ipynb</a> realice lo siguiente:\n",
    "    \n",
    "1. Utilice la función `jacobi(...)` para resolver el sistema usando los siguientes parámetros: `xi, yi = 600, 200`, `tol=1e-5`, `kmax=5`.\n",
    "2. Repite el paso 1. para la función `gauss-seidel(...)`.\n",
    "3. Repite el paso 1. para la función `sor(...)`, usando `w=2.01`.\n",
    "</font>\n",
    "\n",
    "<div class=\"alert alert-danger\">\n",
    "<b>Cuidado.</b>\n",
    "<ul>\n",
    "    <li> Recuerde que la función <i>jacobi()</i> está definida en el módulo <i>metodos_iterativos.py</i> el cuál será usado con el nombre `mi` dentro de este notebook</li>.\n",
    "    <li> Es posible que el método no converja; aún así la verificación que se hace en <i>quizz.eval_numeric(...)</i> dirá que tu respuesta es correcta, aunque la solución numérica no lo sea. En caso de que en esta evaluación obtengas un error, entonces tu código no es correcto y deberás corregirlo.\n",
    "</ul>\n",
    "</div>\n",
    "\n",
    "**Observación.** Los tres métodos no convergen, intenta con las siguientes soluciones iniciales y observa que sucede: $(500,200), (500,300), (1000, 300), (1000, 310), (800, 200)$.\n",
    "\n",
    "---"
   ]
  },
  {
   "cell_type": "code",
   "execution_count": null,
   "id": "1ac87994-b5dd-4d7c-80f4-00f944d0610d",
   "metadata": {
    "deletable": false,
    "nbgrader": {
     "cell_type": "code",
     "checksum": "9b328a62daa716a0a647ee6a77bd3ef8",
     "grade": false,
     "grade_id": "cell-a216138e2ebc5b8d",
     "locked": false,
     "schema_version": 3,
     "solution": true,
     "task": false
    },
    "tags": []
   },
   "outputs": [],
   "source": [
    "import metodos_iterativos as mi\n",
    "\n",
    "# Solución inicial\n",
    "# ...\n",
    "\n",
    "# Método de Jacobi\n",
    "# ...\n",
    "\n",
    "# YOUR CODE HERE\n",
    "raise NotImplementedError()"
   ]
  },
  {
   "cell_type": "code",
   "execution_count": null,
   "id": "5aa16cf2-fc10-412a-b74a-a0610df8f954",
   "metadata": {
    "deletable": false,
    "editable": false,
    "nbgrader": {
     "cell_type": "code",
     "checksum": "d5b979806cd5fce81000ae6848963614",
     "grade": true,
     "grade_id": "cell-74706bb0cb87a8d2",
     "locked": true,
     "points": 1,
     "schema_version": 3,
     "solution": false,
     "task": false
    },
    "tags": []
   },
   "outputs": [],
   "source": [
    "quizz.eval_numeric('7', eJ[-1])"
   ]
  },
  {
   "cell_type": "code",
   "execution_count": null,
   "id": "3a4dcfa8-ccf3-425d-9aa8-c86c538d02f0",
   "metadata": {
    "tags": []
   },
   "outputs": [],
   "source": [
    "plt.figure(figsize=(12,5))\n",
    "plt.subplot(1,2,1)\n",
    "macro.graf_sol(sol)\n",
    "macro.graf_pasos(sol, xs, ys, True)\n",
    "macro.graf_rectas(x, PA, PB, 'PA = 0.10 * x + 200', 'PB = 0.30 * x + 20', aspect='auto')\n",
    "\n",
    "plt.subplot(1,2,2)\n",
    "d_error = {'Jacobi':eJ}\n",
    "macro.graf_error(d_error)\n",
    "\n",
    "plt.tight_layout()"
   ]
  },
  {
   "cell_type": "code",
   "execution_count": null,
   "id": "84918111-dfba-4874-b497-f88d2afc11ef",
   "metadata": {
    "deletable": false,
    "nbgrader": {
     "cell_type": "code",
     "checksum": "2a36aa79a46302c8dd9ec15134923794",
     "grade": false,
     "grade_id": "cell-c23885a04aeaf6d9",
     "locked": false,
     "schema_version": 3,
     "solution": true,
     "task": false
    },
    "tags": []
   },
   "outputs": [],
   "source": [
    "# Solución inicial\n",
    "# ...\n",
    "\n",
    "# Método de Gauss-Seidel\n",
    "# ...\n",
    "\n",
    "# YOUR CODE HERE\n",
    "raise NotImplementedError()"
   ]
  },
  {
   "cell_type": "code",
   "execution_count": null,
   "id": "f763e4c8-b329-48c5-a056-b9cd184f367f",
   "metadata": {
    "deletable": false,
    "editable": false,
    "nbgrader": {
     "cell_type": "code",
     "checksum": "2ae91f379c2e4cc2db0e8b8f770261c1",
     "grade": true,
     "grade_id": "cell-50f6b010204b8374",
     "locked": true,
     "points": 1,
     "schema_version": 3,
     "solution": false,
     "task": false
    },
    "tags": []
   },
   "outputs": [],
   "source": [
    "quizz.eval_numeric('8', eG[-1])"
   ]
  },
  {
   "cell_type": "code",
   "execution_count": null,
   "id": "1fde707d-adf7-494a-807f-6b81d9e5770c",
   "metadata": {
    "tags": []
   },
   "outputs": [],
   "source": [
    "plt.figure(figsize=(12,5))\n",
    "plt.subplot(1,2,1)\n",
    "macro.graf_sol(sol)\n",
    "macro.graf_pasos(sol, xs, ys, True)\n",
    "macro.graf_rectas(x, PA, PB, 'PA = 0.10 * x + 200', 'PB = 0.30 * x + 20', aspect = 'auto')\n",
    "\n",
    "plt.subplot(1,2,2)\n",
    "d_error = {'Gauss-Seidel':eG}\n",
    "macro.graf_error(d_error)\n",
    "\n",
    "plt.tight_layout()"
   ]
  },
  {
   "cell_type": "code",
   "execution_count": null,
   "id": "b19954e7-deb5-4e79-b07d-53278193b60a",
   "metadata": {
    "deletable": false,
    "nbgrader": {
     "cell_type": "code",
     "checksum": "98efc28896e7c9cf0609af8e29c6a8dd",
     "grade": false,
     "grade_id": "cell-ca3a75b30605cf06",
     "locked": false,
     "schema_version": 3,
     "solution": true,
     "task": false
    },
    "tags": []
   },
   "outputs": [],
   "source": [
    "# Solución inicial\n",
    "# ...\n",
    "\n",
    "# Método de SOR\n",
    "# ...\n",
    "\n",
    "# YOUR CODE HERE\n",
    "raise NotImplementedError()"
   ]
  },
  {
   "cell_type": "code",
   "execution_count": null,
   "id": "0fb4def9-27d1-4b1b-994d-ba87a3a394ae",
   "metadata": {
    "deletable": false,
    "editable": false,
    "nbgrader": {
     "cell_type": "code",
     "checksum": "4f30c87f54aec5102f73522d0ba82b5c",
     "grade": true,
     "grade_id": "cell-53cbb7a20ed05759",
     "locked": true,
     "points": 1,
     "schema_version": 3,
     "solution": false,
     "task": false
    },
    "tags": []
   },
   "outputs": [],
   "source": [
    "quizz.eval_numeric('9', eSOR[-1])"
   ]
  },
  {
   "cell_type": "code",
   "execution_count": null,
   "id": "40dec9a3-a514-4fb9-9d79-60c47149e971",
   "metadata": {
    "tags": []
   },
   "outputs": [],
   "source": [
    "plt.figure(figsize=(12,5))\n",
    "plt.subplot(1,2,1)\n",
    "macro.graf_sol(sol)\n",
    "macro.graf_pasos(sol, xs, ys, True)\n",
    "macro.graf_rectas(x, PA, PB, 'PA = 0.10 * x + 200', 'PB = 0.30 * x + 20', aspect='auto')\n",
    "\n",
    "plt.subplot(1,2,2)\n",
    "d_error = {'SOR':eSOR}\n",
    "macro.graf_error(d_error)\n",
    "\n",
    "plt.tight_layout()"
   ]
  },
  {
   "cell_type": "markdown",
   "id": "45632925-5971-45d3-93b5-9ea918e744d8",
   "metadata": {},
   "source": [
    "## Aplicación de métodos del subespacio de Krylov.\n",
    "\n",
    "---\n",
    "### **<font color=\"DodgerBlue\">Ejercicio 4. Cálculo y graficación de los eigenvalores y eigenvectores.</font>**\n",
    "\n",
    "<font color=\"DarkBlue\">Usando la función <i>np.linalg.eig()</i> calcula los eigenvalores y eigenvectores de a matriz. Esto te puede dar información de por qué no convergen los métodos iterativos usados antes.</font>\n",
    "\n",
    "---"
   ]
  },
  {
   "cell_type": "code",
   "execution_count": null,
   "id": "3a845df9-ab6e-4ee4-b71f-7a7533055ad8",
   "metadata": {
    "deletable": false,
    "nbgrader": {
     "cell_type": "code",
     "checksum": "7a2ea555ff40b9a64950da5f13b9b2f2",
     "grade": false,
     "grade_id": "cell-6af69187686c9b01",
     "locked": false,
     "schema_version": 3,
     "solution": true,
     "task": false
    },
    "tags": []
   },
   "outputs": [],
   "source": [
    "# Cálculo de eigenvectores\n",
    "# eigen = ...\n",
    "\n",
    "# Impresión de los eigenvalores y eigenvectores\n",
    "\n",
    "# Cálculo del ángulo entre los vectores.\n",
    "\n",
    "# YOUR CODE HERE\n",
    "raise NotImplementedError()"
   ]
  },
  {
   "cell_type": "code",
   "execution_count": null,
   "id": "6bf84d38-11c9-4397-8421-7a8b13642525",
   "metadata": {
    "tags": []
   },
   "outputs": [],
   "source": [
    "A"
   ]
  },
  {
   "cell_type": "code",
   "execution_count": null,
   "id": "08e2f185-62b9-45e7-84e9-eb5c3cae73cb",
   "metadata": {
    "deletable": false,
    "editable": false,
    "nbgrader": {
     "cell_type": "code",
     "checksum": "430589fedae1b338bb14f2525f00fbd4",
     "grade": true,
     "grade_id": "cell-0deb37abe08c87ac",
     "locked": true,
     "points": 0,
     "schema_version": 3,
     "solution": false,
     "task": false
    },
    "tags": []
   },
   "outputs": [],
   "source": [
    "quizz.eval_numeric('10', np.array([w, v[:,0], v[:,1]]))"
   ]
  },
  {
   "cell_type": "code",
   "execution_count": null,
   "id": "a1f91c23-5fdf-454c-8c6b-65d7399f6fc1",
   "metadata": {
    "tags": []
   },
   "outputs": [],
   "source": [
    "xe = np.array([sol[0], sol[0]])\n",
    "ye = np.array([sol[1], sol[1]])\n",
    "macro.graf_eigen(xe, ye, v[0], v[1])"
   ]
  },
  {
   "cell_type": "markdown",
   "id": "c530196c-eaee-4ad7-bfe8-747c6b045771",
   "metadata": {},
   "source": [
    "### Calculo y graficación de la forma cuadrática.\n",
    "\n",
    "Los eigenvalores y eigenvectores dan una pista de por qué los métodos no convergen. Veamos que dice la forma cuadrática $f(x) = \\dfrac{1}{2} \\mathbf{x}^T A \\mathbf{x} - \\mathbf{x}^T \\mathbf{b} + c$:"
   ]
  },
  {
   "cell_type": "code",
   "execution_count": null,
   "id": "303fda80-7a98-450a-ad27-acfb5db7ddf2",
   "metadata": {
    "tags": []
   },
   "outputs": [],
   "source": [
    "f = lambda A,b,c,x: 0.5 * x @ A @ x.T - x @ b.T + c\n",
    "\n",
    "size_grid = 30\n",
    "\n",
    "xg,yg = np.meshgrid(np.linspace(-6000,6000,size_grid),\n",
    "                    np.linspace(-3000,3000,size_grid))\n",
    "\n",
    "z = np.zeros((size_grid, size_grid))\n",
    "\n",
    "for i in range(size_grid):\n",
    "    for j in range(size_grid):\n",
    "        xc = np.array([[xg[i,j], yg[i,j]]])\n",
    "        z[i,j] = f(A,b,0,xc)\n",
    "        \n",
    "widgets.interactive(macro.graf_fcuad,\n",
    "                    sol = widgets.fixed(sol),\n",
    "                    xg = widgets. fixed(xg), yg = widgets. fixed(yg),\n",
    "                    z = widgets. fixed(z), \n",
    "                    elev = widgets.FloatSlider(min=-45, max=180, value = 5, step=5),\n",
    "                    azim = widgets.FloatSlider(min=0, max=180, value = -30, step=5),\n",
    "                    levels = widgets.fixed(0),\n",
    "                    cmap = widgets.fixed('coolwarm')) "
   ]
  },
  {
   "cell_type": "markdown",
   "id": "3f66ad8f-f963-41aa-9072-fcf6d9b5b46a",
   "metadata": {
    "tags": []
   },
   "source": [
    "La matriz de este sistema es indefinida, por lo tanto es muy difícil calcular la solución. Grafiquemos ahora en forma de contornos:"
   ]
  },
  {
   "cell_type": "code",
   "execution_count": null,
   "id": "39fdeebc-bbe5-4264-a127-9abff7e40e02",
   "metadata": {
    "tags": []
   },
   "outputs": [],
   "source": [
    "macro.graf_sol(sol)\n",
    "macro.graf_fcuad(sol, xg, yg, z, levels=25, cmap='twilight')\n",
    "macro.graf_rectas(x, PA, PB, 'PA = 0.10 * x + 200', 'PB = 0.30 * x + 20', aspect='auto')"
   ]
  },
  {
   "cell_type": "markdown",
   "id": "cc100930-703c-4d0b-b349-67af1b79a627",
   "metadata": {},
   "source": [
    "---\n",
    "### **<font color=\"DodgerBlue\">Ejercicio 5. Solución con el método *Steepest descend*.</font>**\n",
    "\n",
    "<font color=\"DarkBlue\">Ahora resuelve el sistema usando el método <i>steepest(...)</i> usando: `xi, yi = 800, 200`, `tol = 1e-5` y `kmax = 50`.</font>\n",
    "\n",
    "---"
   ]
  },
  {
   "cell_type": "code",
   "execution_count": null,
   "id": "22061ed0-5131-49dc-aaaa-257e8f19bd7a",
   "metadata": {
    "deletable": false,
    "nbgrader": {
     "cell_type": "code",
     "checksum": "333fa6f91405c9f456a3dd67888a21da",
     "grade": false,
     "grade_id": "cell-4db8cde5e042580d",
     "locked": false,
     "schema_version": 3,
     "solution": true,
     "task": false
    },
    "tags": []
   },
   "outputs": [],
   "source": [
    "# Solución inicial (debe darse como un arreglo tipo columna)\n",
    "# xini = ...\n",
    "\n",
    "# Método Steepest descend\n",
    "# ...\n",
    "\n",
    "# YOUR CODE HERE\n",
    "raise NotImplementedError()"
   ]
  },
  {
   "cell_type": "code",
   "execution_count": null,
   "id": "6839c4b0-b0f7-4e8c-97d5-64c2411a5471",
   "metadata": {
    "deletable": false,
    "editable": false,
    "nbgrader": {
     "cell_type": "code",
     "checksum": "2dce5b95cbe1a46850f7ef9fa76ccf35",
     "grade": true,
     "grade_id": "cell-102928cd4363e7fd",
     "locked": true,
     "points": 1,
     "schema_version": 3,
     "solution": false,
     "task": false
    },
    "tags": []
   },
   "outputs": [],
   "source": [
    "quizz.eval_numeric('11', solGrad)"
   ]
  },
  {
   "cell_type": "code",
   "execution_count": null,
   "id": "61b74f6a-6d9b-486a-8666-b0e7eba85847",
   "metadata": {
    "tags": []
   },
   "outputs": [],
   "source": [
    "plt.figure(figsize=(12,5))\n",
    "plt.subplot(1,2,1)\n",
    "macro.graf_sol(sol)\n",
    "macro.graf_pasos(sol, xs, ys, True)\n",
    "macro.graf_rectas(x, PA, PB, 'PA = 0.10 * x + 200', 'PB = 0.30 * x + 20', aspect='auto')\n",
    "\n",
    "plt.subplot(1,2,2)\n",
    "d_error = {'Steepest':resGrad}\n",
    "macro.graf_error(d_error)\n",
    "\n",
    "plt.tight_layout()"
   ]
  },
  {
   "cell_type": "markdown",
   "id": "57bd1f3c-7b77-4d28-9910-5e9d14edd4c4",
   "metadata": {},
   "source": [
    "---\n",
    "### **<font color=\"DodgerBlue\">Ejercicio 6. Solución con el método CGM.</font>**\n",
    "\n",
    "<font color=\"DarkBlue\">Ahora resuelve el sistema usando el método <i>conjugateGradient(...)</i> usando: `xi, yi = 900, 280`, `tol = 1e-5` y `kmax = 5`.</font>\n",
    "\n",
    "---"
   ]
  },
  {
   "cell_type": "code",
   "execution_count": null,
   "id": "e5f8e944-4542-44e1-8047-b2105168260e",
   "metadata": {
    "deletable": false,
    "nbgrader": {
     "cell_type": "code",
     "checksum": "b3e098bb63b91934f3161484e329ea9c",
     "grade": false,
     "grade_id": "cell-a2a8228ad6437eb1",
     "locked": false,
     "schema_version": 3,
     "solution": true,
     "task": false
    },
    "tags": []
   },
   "outputs": [],
   "source": [
    "# Solución inicial (debe darse como un arreglo tipo columna)\n",
    "# xini = ...\n",
    "\n",
    "# Método CGM\n",
    "# ...\n",
    "\n",
    "# YOUR CODE HERE\n",
    "raise NotImplementedError()"
   ]
  },
  {
   "cell_type": "code",
   "execution_count": null,
   "id": "f6fccb62-2bd6-44bb-a5d1-7123c96f4802",
   "metadata": {
    "deletable": false,
    "editable": false,
    "nbgrader": {
     "cell_type": "code",
     "checksum": "fee0ddee99996bf25f4990b26ccbdadb",
     "grade": true,
     "grade_id": "cell-8592d680c0a7a9c6",
     "locked": true,
     "points": 1,
     "schema_version": 3,
     "solution": false,
     "task": false
    },
    "tags": []
   },
   "outputs": [],
   "source": [
    "quizz.eval_numeric('12', resCGM[-1])"
   ]
  },
  {
   "cell_type": "code",
   "execution_count": null,
   "id": "845267cd-01f9-4be5-b15e-83c3e1664cf0",
   "metadata": {
    "tags": []
   },
   "outputs": [],
   "source": [
    "plt.figure(figsize=(12,5))\n",
    "plt.subplot(1,2,1)\n",
    "macro.graf_sol(sol)\n",
    "macro.graf_pasos(sol, xs, ys, True)\n",
    "macro.graf_rectas(x, PA, PB, 'PA = 0.10 * x + 200', 'PB = 0.30 * x + 20', aspect='auto')\n",
    "macro.graf_fcuad(sol, xg, yg, z, levels=25, cmap='twilight')\n",
    "\n",
    "plt.subplot(1,2,2)\n",
    "d_error = {'CGM':resCGM}\n",
    "macro.graf_error(d_error)\n",
    "\n",
    "plt.tight_layout()"
   ]
  },
  {
   "cell_type": "code",
   "execution_count": null,
   "id": "53e00d7f-c35f-4818-aa4e-36aa16e65945",
   "metadata": {},
   "outputs": [],
   "source": []
  }
 ],
 "metadata": {
  "kernelspec": {
   "display_name": "Python 3 (ipykernel)",
   "language": "python",
   "name": "python3"
  },
  "language_info": {
   "codemirror_mode": {
    "name": "ipython",
    "version": 3
   },
   "file_extension": ".py",
   "mimetype": "text/x-python",
   "name": "python",
   "nbconvert_exporter": "python",
   "pygments_lexer": "ipython3",
   "version": "3.10.10"
  }
 },
 "nbformat": 4,
 "nbformat_minor": 5
}
